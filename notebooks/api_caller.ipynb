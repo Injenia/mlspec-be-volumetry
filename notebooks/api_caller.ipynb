{
 "cells": [
  {
   "cell_type": "markdown",
   "id": "133f3601-e243-47a7-8eaa-aa585bcac39f",
   "metadata": {},
   "source": [
    "# API caller\n",
    "\n",
    "Notebook used to test the API `be-volumetry`"
   ]
  },
  {
   "cell_type": "code",
   "execution_count": 4,
   "id": "79e621ac-f62e-46f5-924f-30aea06c2954",
   "metadata": {},
   "outputs": [
    {
     "name": "stdout",
     "output_type": "stream",
     "text": [
      "\u001b[33mWARNING: You are using pip version 21.1.3; however, version 21.2.4 is available.\n",
      "You should consider upgrading via the '/home/zimmy/.cache/pypoetry/virtualenvs/be-centratura-6766qhX0-py3.7/bin/python -m pip install --upgrade pip' command.\u001b[0m\n",
      "\u001b[33mWARNING: You are using pip version 21.1.3; however, version 21.2.4 is available.\n",
      "You should consider upgrading via the '/home/zimmy/.cache/pypoetry/virtualenvs/be-centratura-6766qhX0-py3.7/bin/python -m pip install --upgrade pip' command.\u001b[0m\n"
     ]
    }
   ],
   "source": [
    "# Install required packages\n",
    "!pip install --quiet requests\n",
    "!pip install --quiet requests-toolbelt"
   ]
  },
  {
   "cell_type": "code",
   "execution_count": 5,
   "id": "e3ef31f0-86d6-4892-83c5-d2d8c6afb79e",
   "metadata": {},
   "outputs": [],
   "source": [
    "# Config\n",
    "HOST = \"https://cloudrun-be-volumetry-h4dupqlq3q-ew.a.run.app\"\n",
    "HEALTH_API = \"/api/healthz\"\n",
    "VOLUMETRY_API = \"/api/analysis/volumetry\"\n",
    "IDENTITY_TOKEN = !gcloud auth print-identity-token\n",
    "IDENTITY_TOKEN = IDENTITY_TOKEN[0]"
   ]
  },
  {
   "cell_type": "markdown",
   "id": "efb053ae-ee30-47b9-9b0d-ecf5f457e609",
   "metadata": {},
   "source": [
    "### Check cloud run connection"
   ]
  },
  {
   "cell_type": "code",
   "execution_count": 6,
   "id": "367527d4-fc79-4b4c-a27c-4275bf65d56d",
   "metadata": {},
   "outputs": [
    {
     "name": "stdout",
     "output_type": "stream",
     "text": [
      "Connection to cloud run established!\n"
     ]
    }
   ],
   "source": [
    "import requests\n",
    "\n",
    "headers = {'Content-Type':'application/json',\n",
    "            'Authorization': f'Bearer {IDENTITY_TOKEN}'}\n",
    "\n",
    "r = requests.get(f\"{HOST}{HEALTH_API}\",  headers=headers)\n",
    "\n",
    "assert r.status_code == 200, f\"Cannot connect to clud run at {HOST}, status:{r.status_code} - error:{r.text}\"\n",
    "print(f\"Connection to cloud run established!\")"
   ]
  },
  {
   "cell_type": "markdown",
   "id": "68592acd-2c88-4eb4-94ce-fe45e305f3be",
   "metadata": {},
   "source": [
    "### BE-volumetry API"
   ]
  },
  {
   "cell_type": "code",
   "execution_count": null,
   "id": "169c6b88-1508-4f6f-8485-ba55c751a0d8",
   "metadata": {},
   "outputs": [
    {
     "name": "stdout",
     "output_type": "stream",
     "text": [
      "Copying gs://mlspec-volumetry/assets/3200/CX/center.jpg...\n",
      "Copying gs://mlspec-volumetry/assets/3200/DX/20200625131458530.jpg...           \n",
      "/ [2 files][  1.2 MiB/  1.2 MiB]                                                \n",
      "==> NOTE: You are performing a sequence of gsutil operations that may\n",
      "run significantly faster if you instead use gsutil -m cp ... Please\n",
      "see the -m section under \"gsutil help options\" for further information\n",
      "about when gsutil -m can be advantageous.\n",
      "\n",
      "Copying gs://mlspec-volumetry/assets/3200/SX/20200625131458529.jpg...\n",
      "/ [2 files][  1.2 MiB/  2.0 MiB]                                                \r"
     ]
    }
   ],
   "source": [
    "# Download the testing images\n",
    "!gsutil cp -r gs://mlspec-volumetry/assets ."
   ]
  },
  {
   "cell_type": "code",
   "execution_count": null,
   "id": "2c55b735-622c-454b-bb11-b7dec82632be",
   "metadata": {},
   "outputs": [],
   "source": [
    "import uuid\n",
    "from os.path import basename\n",
    "\n",
    "correlation_id = uuid.uuid4().hex\n",
    "cam_left_path = \"./assets/3200/CX/center.jpg\"\n",
    "cam_center_path = \"./assets/3200/DX/20200625131458530.jpg\"\n",
    "cam_right_path = \"./assets/3200/SX/20200625131458529.jpg\""
   ]
  },
  {
   "cell_type": "code",
   "execution_count": null,
   "id": "0c08c2cc-0dc6-4f2c-8dbb-d1a5b56d9476",
   "metadata": {},
   "outputs": [],
   "source": [
    "import requests\n",
    "from pprint import pprint\n",
    "from requests_toolbelt import MultipartEncoder\n",
    "\n",
    "\n",
    "data = MultipartEncoder(\n",
    "        fields={'correlationId': correlation_id,\n",
    "                'camLeft': (basename(cam_left_path), open(cam_left_path, 'rb'), 'image/jpeg'),\n",
    "                'camCenter': (basename(cam_center_path), open(cam_center_path, 'rb'), 'image/jpeg'),\n",
    "                'camRight': (basename(cam_right_path), open(cam_right_path, 'rb'), 'image/jpeg')}\n",
    "        )\n",
    "\n",
    "r = requests.post(f'{HOST}{VOLUMETRY_API}', data=data,\n",
    "                  headers={'Content-Type':  data.content_type,\n",
    "                          'Authorization': f'Bearer {IDENTITY_TOKEN}'})\n",
    "\n",
    "print(\"API response:\")\n",
    "pprint(r.json())"
   ]
  }
 ],
 "metadata": {
  "kernelspec": {
   "display_name": "Python 3 (ipykernel)",
   "language": "python",
   "name": "python3"
  },
  "language_info": {
   "codemirror_mode": {
    "name": "ipython",
    "version": 3
   },
   "file_extension": ".py",
   "mimetype": "text/x-python",
   "name": "python",
   "nbconvert_exporter": "python",
   "pygments_lexer": "ipython3",
   "version": "3.7.0"
  }
 },
 "nbformat": 4,
 "nbformat_minor": 5
}
