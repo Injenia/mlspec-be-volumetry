{
 "cells": [
  {
   "cell_type": "markdown",
   "source": [
    "# API caller\n",
    "\n",
    "Notebook used to test the API `be-volumetry`"
   ],
   "metadata": {}
  },
  {
   "cell_type": "code",
   "execution_count": null,
   "source": [
    "# Install required packages\n",
    "!pip install --quiet requests\n",
    "!pip install --quiet requests-toolbelt"
   ],
   "outputs": [],
   "metadata": {}
  },
  {
   "cell_type": "code",
   "execution_count": null,
   "source": [
    "# Config\n",
    "HOST = \"https://cloudrun-be-volumetry-h4dupqlq3q-ew.a.run.app\"\n",
    "HEALTH_API = \"/api/healthz\"\n",
    "VOLUMETRY_API = \"/api/analysis/volumetry\"\n",
    "IDENTITY_TOKEN = !gcloud auth print-identity-token\n",
    "IDENTITY_TOKEN = IDENTITY_TOKEN[0]"
   ],
   "outputs": [],
   "metadata": {}
  },
  {
   "cell_type": "markdown",
   "source": [
    "### Check cloud run connection"
   ],
   "metadata": {}
  },
  {
   "cell_type": "code",
   "execution_count": null,
   "source": [
    "import requests\n",
    "\n",
    "headers = {'Content-Type':'application/json',\n",
    "            'Authorization': f'Bearer {IDENTITY_TOKEN}'}\n",
    "\n",
    "r = requests.get(f\"{HOST}{HEALTH_API}\",  headers=headers)\n",
    "\n",
    "assert r.status_code == 200, f\"Cannot connect to clud run at {HOST}, status:{r.status_code} - error:{r.text}\"\n",
    "print(f\"Connection to cloud run established!\")"
   ],
   "outputs": [],
   "metadata": {}
  },
  {
   "cell_type": "markdown",
   "source": [
    "### BE-volumetry API"
   ],
   "metadata": {}
  },
  {
   "cell_type": "code",
   "execution_count": null,
   "source": [
    "# Download the testing images\n",
    "!gsutil cp -r gs://mlspec-volumetry/assets ."
   ],
   "outputs": [],
   "metadata": {}
  },
  {
   "cell_type": "code",
   "execution_count": null,
   "source": [
    "import uuid\n",
    "from os.path import basename\n",
    "\n",
    "correlation_id = uuid.uuid4().hex\n",
    "cam_left_path = \"./assets/3200/SX/20200625131458529.jpg\"\n",
    "cam_center_path = \"./assets/3200/CX/center.jpg\"\n",
    "cam_right_path = \"./assets/3200/DX/20200625131458530.jpg\""
   ],
   "outputs": [],
   "metadata": {}
  },
  {
   "cell_type": "code",
   "execution_count": null,
   "source": [
    "import requests\n",
    "from pprint import pprint\n",
    "from requests_toolbelt import MultipartEncoder\n",
    "\n",
    "\n",
    "data = MultipartEncoder(\n",
    "        fields={'correlationId': correlation_id,\n",
    "                'camLeft': (basename(cam_left_path), open(cam_left_path, 'rb'), 'image/jpeg'),\n",
    "                'camCenter': (basename(cam_center_path), open(cam_center_path, 'rb'), 'image/jpeg'),\n",
    "                'camRight': (basename(cam_right_path), open(cam_right_path, 'rb'), 'image/jpeg')}\n",
    "        )\n",
    "\n",
    "r = requests.post(f'{HOST}{VOLUMETRY_API}', data=data,\n",
    "                  headers={'Content-Type':  data.content_type,\n",
    "                          'Authorization': f'Bearer {IDENTITY_TOKEN}'})\n",
    "\n",
    "print(\"API response:\")\n",
    "pprint(r.json())"
   ],
   "outputs": [],
   "metadata": {}
  },
  {
   "cell_type": "markdown",
   "source": [
    "**~ end**"
   ],
   "metadata": {}
  }
 ],
 "metadata": {
  "kernelspec": {
   "name": "python3",
   "display_name": "Python 3.7.0 64-bit ('be-centratura-6766qhX0-py3.7': poetry)"
  },
  "language_info": {
   "codemirror_mode": {
    "name": "ipython",
    "version": 3
   },
   "file_extension": ".py",
   "mimetype": "text/x-python",
   "name": "python",
   "nbconvert_exporter": "python",
   "pygments_lexer": "ipython3",
   "version": "3.7.0"
  },
  "interpreter": {
   "hash": "b14193df684e38fa4d5b2a47abd266c70bfd290988e349efa97309d2c4457548"
  }
 },
 "nbformat": 4,
 "nbformat_minor": 5
}